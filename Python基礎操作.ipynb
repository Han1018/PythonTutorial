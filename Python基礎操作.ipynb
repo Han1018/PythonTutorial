{
  "nbformat": 4,
  "nbformat_minor": 0,
  "metadata": {
    "colab": {
      "name": "Python基礎操作",
      "provenance": [],
      "collapsed_sections": [],
      "include_colab_link": true
    },
    "kernelspec": {
      "name": "python3",
      "display_name": "Python 3"
    }
  },
  "cells": [
    {
      "cell_type": "markdown",
      "metadata": {
        "id": "view-in-github",
        "colab_type": "text"
      },
      "source": [
        "<a href=\"https://colab.research.google.com/github/Han1018/PythonTutorial/blob/main/Python%E5%9F%BA%E7%A4%8E%E6%93%8D%E4%BD%9C.ipynb\" target=\"_parent\"><img src=\"https://colab.research.google.com/assets/colab-badge.svg\" alt=\"Open In Colab\"/></a>"
      ]
    },
    {
      "cell_type": "markdown",
      "metadata": {
        "id": "1GEeUsotSLMR"
      },
      "source": [
        "## 這是什麼網站？\n",
        "這網站叫作 Colab，它可以讓你線上執行 Python 程式，並輕鬆地與之互動，也可以寫成文件的形式。\n",
        "適合用來撰寫筆記以及開發過程，也可以拿來當講義教學。\n"
      ]
    },
    {
      "cell_type": "markdown",
      "metadata": {
        "id": "chOQyxv8SPhz"
      },
      "source": [
        "## 怎麼操作這網站？\n",
        "- 這網站有兩種區塊\n",
        "  - 白底區塊 為 **文字** 區塊\n",
        "  - 灰底區塊 為 **程式** 區塊\n",
        "- 程式區塊（Python）\n",
        "  - 按下 `shift + Enter`：執行程式區塊的程式碼，第一次執行會需要花幾秒初始化\n",
        "  - 按下 `Enter`：換行\n",
        "- 文字區塊（Markdown 語法）\n",
        "  - 雙擊：進入編輯模式\n",
        "  - 按下 `shift + Enter`：結束編輯模式\n",
        "  - 按下 `Enter`：換行\n",
        "  \n",
        "\n",
        "### 新增程式區塊\n",
        "![Code](https://ws3.sinaimg.cn/large/006tNc79gy1g2g9577l2vj303k0200sm.jpg =80x)\n",
        "\n",
        "### 新增文字區塊\n",
        "![Text](https://ws2.sinaimg.cn/large/006tNc79gy1g2g957hpl5j303o020dfp.jpg =80x)\n",
        "\n",
        "### 將目前區塊上移\n",
        "![Up](https://ws4.sinaimg.cn/large/006tNc79gy1g2g957bv6gj303401w745.jpg =80x)\n",
        "\n",
        "### 將目前區塊下移\n",
        "![Down](https://ws2.sinaimg.cn/large/006tNc79gy1g2g95733abj303k01wa9x.jpg =80x)\n",
        "\n"
      ]
    },
    {
      "cell_type": "markdown",
      "metadata": {
        "id": "v3Lz73Ry0cNH"
      },
      "source": [
        "# Python檔案管理\n",
        "## 基礎知識\n",
        "---\n",
        "### 型態：int、string、list、object\n",
        "### 定義Function: def\n"
      ]
    },
    {
      "cell_type": "code",
      "metadata": {
        "colab": {
          "base_uri": "https://localhost:8080/"
        },
        "id": "g_0hK_zv05lw",
        "outputId": "14495858-d252-4040-c92f-1a1b683046c2"
      },
      "source": [
        "def IntroInt():\n",
        "  int_a = 1\n",
        "  int_b = 2\n",
        "  print(int_a+int_b)\n",
        "\n",
        "def IntroString(): \n",
        "  string_a = 'User/'\n",
        "  string_b = 'folder1'\n",
        "  print(string_a + string_b)\n",
        "\n",
        "def IntroList(a,b):\n",
        "  list_a = []\n",
        "  list_a.append(a)\n",
        "  list_a.append(b)\n",
        "  print(len(list_a))\n",
        "  print(list_a)\n",
        "\n",
        "def main():\n",
        "  IntroInt()\n",
        "  IntroString()\n",
        "  IntroList('picture1','picture2')\n",
        "\n",
        "main()"
      ],
      "execution_count": null,
      "outputs": [
        {
          "output_type": "stream",
          "name": "stdout",
          "text": [
            "3\n",
            "User/folder1\n",
            "2\n",
            "['picture1', 'picture2']\n"
          ]
        }
      ]
    },
    {
      "cell_type": "markdown",
      "metadata": {
        "id": "S9oiU-nCFMKY"
      },
      "source": [
        "## 常用句型\n",
        "---\n",
        "### 迴圈：For-Loop、while\n",
        "### 條件判斷：：if-else\n"
      ]
    },
    {
      "cell_type": "code",
      "metadata": {
        "id": "sU38ESxw1Q81",
        "colab": {
          "base_uri": "https://localhost:8080/"
        },
        "outputId": "9b7a6c15-0f3b-48ef-dc4c-a85bdb5a520e"
      },
      "source": [
        "def IntroFor():\n",
        "  list_a = ['pic1','pic2','pic3']\n",
        "  for item in list_a:\n",
        "    print(item)\n",
        "\n",
        "  for time in range(10):\n",
        "    print(time)\n",
        "\n",
        "def IntroWhile():\n",
        "  times = 10\n",
        "  t = 0 \n",
        "  while(t<times):\n",
        "    t = t+1\n",
        "\n",
        "def IntroIf(input):\n",
        "  if(input == 'Test'):\n",
        "    print('True')\n",
        "  else:\n",
        "    print('False')\n",
        "\n",
        "IntroFor()\n",
        "IntroWhile()\n",
        "IntroIf('Test')\n",
        "IntroIf('Test111')"
      ],
      "execution_count": null,
      "outputs": [
        {
          "output_type": "stream",
          "name": "stdout",
          "text": [
            "pic1\n",
            "pic2\n",
            "pic3\n",
            "0\n",
            "1\n",
            "2\n",
            "3\n",
            "4\n",
            "5\n",
            "6\n",
            "7\n",
            "8\n",
            "9\n",
            "True\n",
            "False\n"
          ]
        }
      ]
    },
    {
      "cell_type": "markdown",
      "metadata": {
        "id": "C6lLRJA7HMXg"
      },
      "source": [
        "## Python3 重點語法快速複習\n",
        "\n"
      ]
    },
    {
      "cell_type": "markdown",
      "metadata": {
        "id": "AnFe7FweIFkE"
      },
      "source": [
        "## 輸入 / 輸出\n",
        "\n",
        "Python 提供了兩個簡易的方法達成輸入以及輸出：\n",
        "- `input(<用來提示使用者的文字>)` -- 取得輸入的內容，收到的東西一律為字串 (str)\n",
        "- `print(<任何想顯示的東西>)` -- 將結果顯示出來，可以用「**,**」分隔變數，以同時顯示多項東西"
      ]
    },
    {
      "cell_type": "code",
      "metadata": {
        "id": "SuUAT0bJIKxR",
        "colab": {
          "base_uri": "https://localhost:8080/"
        },
        "outputId": "1fe24312-d225-4e1a-9116-8abccfb5df01"
      },
      "source": [
        "height = input(\"請入您的身高：\")\n",
        "print('身高：', height)"
      ],
      "execution_count": null,
      "outputs": [
        {
          "output_type": "stream",
          "name": "stdout",
          "text": [
            "請入您的身高：180\n",
            "身高： 180\n"
          ]
        }
      ]
    },
    {
      "cell_type": "markdown",
      "metadata": {
        "id": "ZfoO1WmdHpLA"
      },
      "source": [
        "## list 清單\n",
        "\n",
        "等同於其他語言中的陣列 (array)，在 [] 中可以包入多個元素。"
      ]
    },
    {
      "cell_type": "code",
      "metadata": {
        "id": "7un6SYqXLKNo",
        "colab": {
          "base_uri": "https://localhost:8080/"
        },
        "outputId": "b0b6059b-d712-45cf-e039-25a13f68b75e"
      },
      "source": [
        "a = [1, 2]\n",
        "\n",
        "print(a)"
      ],
      "execution_count": null,
      "outputs": [
        {
          "output_type": "stream",
          "name": "stdout",
          "text": [
            "[1, 2]\n"
          ]
        }
      ]
    },
    {
      "cell_type": "markdown",
      "metadata": {
        "id": "-wPfJlZ3MGSF"
      },
      "source": [
        "### 取得元素\n",
        "\n",
        "使用 **變數[ 位移植 ] ** 來取的裡面的元素。"
      ]
    },
    {
      "cell_type": "code",
      "metadata": {
        "id": "mk2htKRaMTHu",
        "colab": {
          "base_uri": "https://localhost:8080/"
        },
        "outputId": "76d98f7a-6058-4bdc-8a12-6dd275583a11"
      },
      "source": [
        "a = [1, 2]\n",
        "\n",
        "print('a[0]：', a[0])\n",
        "\n",
        "print('a[1]：', a[1])"
      ],
      "execution_count": null,
      "outputs": [
        {
          "output_type": "stream",
          "name": "stdout",
          "text": [
            "a[0]： 1\n",
            "a[1]： 2\n"
          ]
        }
      ]
    },
    {
      "cell_type": "markdown",
      "metadata": {
        "id": "JhZFiK49M2AC"
      },
      "source": [
        "### 更改元素\n",
        "使用 [ 位移植 ] 來勾改特定元素。"
      ]
    },
    {
      "cell_type": "code",
      "metadata": {
        "id": "1_fWgsJENGFb",
        "colab": {
          "base_uri": "https://localhost:8080/"
        },
        "outputId": "52b97d75-3f33-4157-9d2d-1e2ddc89b707"
      },
      "source": [
        "a = [1, 2]\n",
        "a[0] = 3\n",
        "a[1] = 100\n",
        "\n",
        "print('a[0]：', a[0])\n",
        "\n",
        "print('a[1]：', a[1])"
      ],
      "execution_count": null,
      "outputs": [
        {
          "output_type": "stream",
          "name": "stdout",
          "text": [
            "a[0]： 3\n",
            "a[1]： 100\n"
          ]
        }
      ]
    },
    {
      "cell_type": "markdown",
      "metadata": {
        "id": "B5Gyu72n5z9e"
      },
      "source": [
        "### 截取範圍內的元素 - slice\n",
        "\n",
        "用一個範圍的位移值來取得範圍內的部分元素。\n"
      ]
    },
    {
      "cell_type": "code",
      "metadata": {
        "id": "M2OZ2Apb6G8j",
        "colab": {
          "base_uri": "https://localhost:8080/"
        },
        "outputId": "edba5309-651f-4c69-e42a-586352847012"
      },
      "source": [
        "a = [0, 1, 2, 3, 4, 5, 6, 7, 8, 9]\n",
        "\n",
        "print(a[0:6])\n",
        "\n",
        "print(a[1:6])\n",
        "\n",
        "print(a[1:6:2])"
      ],
      "execution_count": null,
      "outputs": [
        {
          "output_type": "stream",
          "name": "stdout",
          "text": [
            "[0, 1, 2, 3, 4, 5]\n",
            "[1, 2, 3, 4, 5]\n",
            "[1, 3, 5]\n"
          ]
        }
      ]
    },
    {
      "cell_type": "markdown",
      "metadata": {
        "id": "_OogqvjZFk3M"
      },
      "source": [
        "### 在結尾加入元素\n",
        "用 **`變數.append(預加入的元素)`** 將元素從尾端加入。"
      ]
    },
    {
      "cell_type": "code",
      "metadata": {
        "id": "abuoDSrQFvHt",
        "colab": {
          "base_uri": "https://localhost:8080/"
        },
        "outputId": "6a01df7f-e48a-49fb-9552-7b72c14ab2ae"
      },
      "source": [
        "a = [1, 2, 3]\n",
        "print(a)\n",
        "\n",
        "a.append('four')\n",
        "print(a)\n",
        "\n",
        "a.append(5)\n",
        "print(a)"
      ],
      "execution_count": null,
      "outputs": [
        {
          "output_type": "stream",
          "name": "stdout",
          "text": [
            "[1, 2, 3]\n",
            "[1, 2, 3, 'four']\n",
            "[1, 2, 3, 'four', 5]\n"
          ]
        }
      ]
    },
    {
      "cell_type": "markdown",
      "metadata": {
        "id": "1hUdv16CHyC6"
      },
      "source": [
        "### 將元素取出\n",
        "用 `pop()` 將元素從 list 中取出，也可用來刪除該元素。\n",
        "\n",
        "如果括號內沒有給定位移植，則預設刪除最後一個。"
      ]
    },
    {
      "cell_type": "code",
      "metadata": {
        "id": "Fz73hxnwIGq0",
        "colab": {
          "base_uri": "https://localhost:8080/"
        },
        "outputId": "91cb19a3-bc52-4a28-bfc6-ec2b2a95f1c3"
      },
      "source": [
        "fruits = ['apple', 'banana', 'pineapple', 'orange', 'grape']\n",
        "print(fruits)\n",
        "\n",
        "fruits.pop()\n",
        "print(fruits)\n",
        "\n",
        "fruits.pop(2)\n",
        "print(fruits)"
      ],
      "execution_count": null,
      "outputs": [
        {
          "output_type": "stream",
          "name": "stdout",
          "text": [
            "['apple', 'banana', 'pineapple', 'orange', 'grape']\n",
            "['apple', 'banana', 'pineapple', 'orange']\n",
            "['apple', 'banana', 'orange']\n"
          ]
        }
      ]
    },
    {
      "cell_type": "markdown",
      "metadata": {
        "id": "OoUshM2QEcbv"
      },
      "source": [
        "## Tuple 元組\n",
        "簡易版的 list，以 `()` 將元素包起來，在創建後無法對元素進行增減、修改或排序。\n",
        "\n",
        "```\n",
        "ex. (1, 2, 3)、('One', 'two', 3)\n",
        "```"
      ]
    },
    {
      "cell_type": "code",
      "metadata": {
        "id": "DKvCrvCcErU5",
        "colab": {
          "base_uri": "https://localhost:8080/"
        },
        "outputId": "62bda1c1-05f3-422b-e867-ba5655a582e8"
      },
      "source": [
        "a = (1, 2, 3)\n",
        "print(a[1])\n",
        "\n",
        "# 錯誤示範（會噴錯，因為 Tuple 無法對元素進行增減、修改或排序）\n",
        "# a[1] = 3"
      ],
      "execution_count": null,
      "outputs": [
        {
          "output_type": "stream",
          "name": "stdout",
          "text": [
            "2\n"
          ]
        }
      ]
    },
    {
      "cell_type": "markdown",
      "metadata": {
        "id": "UEZqC6hfHrR2"
      },
      "source": [
        "## dictionary 字典\n",
        "利用左邊的 key，可以找到右邊的 value  \n",
        "跟在書中可以用章節名稱找到頁碼的方式一樣\n",
        "\n",
        "> 新增元素時，可以直接用 **`變數[key] = value`**"
      ]
    },
    {
      "cell_type": "code",
      "metadata": {
        "id": "HSCvHXJh3cyj",
        "colab": {
          "base_uri": "https://localhost:8080/"
        },
        "outputId": "5764a86d-a3f7-4ada-dadf-7c3966a9d076"
      },
      "source": [
        "a = {'one': 1, 'two': 2, 3: 'three'}\n",
        "\n",
        "print(a['one'])\n",
        "print(a[3])"
      ],
      "execution_count": null,
      "outputs": [
        {
          "output_type": "stream",
          "name": "stdout",
          "text": [
            "1\n",
            "three\n"
          ]
        }
      ]
    },
    {
      "cell_type": "markdown",
      "metadata": {
        "id": "xWOoBuzBHk2C"
      },
      "source": [
        "## for 迴圈"
      ]
    },
    {
      "cell_type": "markdown",
      "metadata": {
        "id": "zLUqYqVEtGnB"
      },
      "source": [
        "### for <子元素> in <母元素>\n",
        "```python\n",
        "for <子元素> in <母元素>:\n",
        "    重複執行這裡的程式，直到所有子元素都被取出來\n",
        "```"
      ]
    },
    {
      "cell_type": "code",
      "metadata": {
        "id": "rI8EC969HvQe",
        "colab": {
          "base_uri": "https://localhost:8080/"
        },
        "outputId": "fe9f8fd7-a66c-4071-8390-ecb308f1feeb"
      },
      "source": [
        "numbers = [1, 2, 3, 4, 5]\n",
        "for number in numbers:\n",
        "    print(number)\n"
      ],
      "execution_count": null,
      "outputs": [
        {
          "output_type": "stream",
          "name": "stdout",
          "text": [
            "1\n",
            "2\n",
            "3\n",
            "4\n",
            "5\n"
          ]
        }
      ]
    },
    {
      "cell_type": "markdown",
      "metadata": {
        "id": "KRW6H94i-aT9"
      },
      "source": [
        "### `for i in range()`\n",
        "在 **`for`** 迴圈中使用 **`range()`** 與 **`[0, 1, 2, ..., n]`** 有一樣的效果。\n",
        "\n",
        "**`range(起始, 結束(不包含它), 間距)`**\n",
        "\n",
        "ex. \n",
        "- **`range(3)`** 與 **`[0, 1, 2]`** 在 for 迴圈中效果相同\n",
        "- **`range(2, 5)`** 與 **`[2, 3, 4]`** 在 for 迴圈中效果相同\n",
        "- **`range(2, 7, 2)`** 與 **`[2, 4, 6]`** 在 for 迴圈中效果相同\n"
      ]
    },
    {
      "cell_type": "code",
      "metadata": {
        "id": "fDKndQmMKnpw",
        "colab": {
          "base_uri": "https://localhost:8080/"
        },
        "outputId": "2bfd2385-1ecc-4f62-a876-572b64493db4"
      },
      "source": [
        "# 僅給予起始位置\n",
        "for i in range(3):\n",
        "   print(i)"
      ],
      "execution_count": null,
      "outputs": [
        {
          "output_type": "stream",
          "name": "stdout",
          "text": [
            "0\n",
            "1\n",
            "2\n"
          ]
        }
      ]
    },
    {
      "cell_type": "code",
      "metadata": {
        "id": "Iz31JKl5Awbb",
        "colab": {
          "base_uri": "https://localhost:8080/"
        },
        "outputId": "4c36d5fe-5e25-4e16-bbdc-cc2e9591f20f"
      },
      "source": [
        "# 僅給予起始位置和結束位置（不會包含到結束位置）\n",
        "for i in range(2, 5):\n",
        "  print(i)"
      ],
      "execution_count": null,
      "outputs": [
        {
          "output_type": "stream",
          "name": "stdout",
          "text": [
            "2\n",
            "3\n",
            "4\n"
          ]
        }
      ]
    },
    {
      "cell_type": "code",
      "metadata": {
        "id": "d6G_j4pqAw8G",
        "colab": {
          "base_uri": "https://localhost:8080/"
        },
        "outputId": "a3e9c10c-b01d-486f-fdb2-f2b44d465e0a"
      },
      "source": [
        "# 給予起始位置、結束位置、間距\n",
        "for i in range(2, 7, 2):\n",
        "  print(i)"
      ],
      "execution_count": null,
      "outputs": [
        {
          "output_type": "stream",
          "name": "stdout",
          "text": [
            "2\n",
            "4\n",
            "6\n"
          ]
        }
      ]
    },
    {
      "cell_type": "markdown",
      "metadata": {
        "id": "Swd04Hop1mGQ"
      },
      "source": [
        "## 進階用法\n",
        "下面寫法的兩個範例效果依樣，不過下面的寫法簡潔很多。"
      ]
    },
    {
      "cell_type": "code",
      "metadata": {
        "id": "oLmfF0LO1x1g",
        "colab": {
          "base_uri": "https://localhost:8080/"
        },
        "outputId": "e2aecbbc-8ce7-43d0-deac-a3bb71de27d9"
      },
      "source": [
        "fruits = ['apple', 'banana', 'pineapple', 'orange', 'grape']\n",
        "\n",
        "# 第一種寫法\n",
        "b = []\n",
        "for i in fruits:\n",
        "  b.append(i)\n",
        "print(b)\n",
        "\n",
        "# 第二種寫法（進階版）\n",
        "c = [i for i in fruits]\n",
        "print(c)\n",
        "\n",
        "# 第二種的更進階寫法（超階版）\n",
        "d = [i for i in fruits if len(i) > 5]\n",
        "print(d)"
      ],
      "execution_count": null,
      "outputs": [
        {
          "output_type": "stream",
          "name": "stdout",
          "text": [
            "['apple', 'banana', 'pineapple', 'orange', 'grape']\n",
            "['apple', 'banana', 'pineapple', 'orange', 'grape']\n",
            "['banana', 'pineapple', 'orange']\n"
          ]
        }
      ]
    },
    {
      "cell_type": "markdown",
      "metadata": {
        "id": "7QqxQ-jgn5j8"
      },
      "source": [
        "## 成為底爸葛大師！\n",
        "將以下的程式碼都改成正確可以執行的吧～"
      ]
    },
    {
      "cell_type": "code",
      "metadata": {
        "id": "APwq4Oy6odf1",
        "colab": {
          "base_uri": "https://localhost:8080/"
        },
        "outputId": "fc55415e-5671-45f5-cfa2-6429ca1403e7"
      },
      "source": [
        "weight = input('請輸入體重：')\n",
        "height = input('請輸入身高(公尺)：')\n",
        "bmi = weight / height**2\n",
        "print(bmi)"
      ],
      "execution_count": null,
      "outputs": [
        {
          "output_type": "stream",
          "name": "stdout",
          "text": [
            "請輸入體重：75\n",
            "請輸入身高(公尺)：1.8\n",
            "23.148148148148145\n"
          ]
        }
      ]
    },
    {
      "cell_type": "code",
      "metadata": {
        "id": "RiRjIFIXo3t1",
        "colab": {
          "base_uri": "https://localhost:8080/"
        },
        "outputId": "26ca2f31-87dd-4e30-b744-ca26d24c4c4b"
      },
      "source": [
        "a = 'owo'\n",
        "print a"
      ],
      "execution_count": null,
      "outputs": [
        {
          "output_type": "stream",
          "name": "stdout",
          "text": [
            "owo\n"
          ]
        }
      ]
    },
    {
      "cell_type": "code",
      "metadata": {
        "id": "1CAnXn_JpUZX",
        "colab": {
          "base_uri": "https://localhost:8080/"
        },
        "outputId": "a80067ef-4536-4d6d-8762-82170e76bfe2"
      },
      "source": [
        "items = ['Machine', 'Cat', 'Dog']\n",
        "for item in items\n",
        "  if item == 'Cat'\n",
        "    print(item)"
      ],
      "execution_count": null,
      "outputs": [
        {
          "output_type": "stream",
          "name": "stdout",
          "text": [
            "Cat\n"
          ]
        }
      ]
    },
    {
      "cell_type": "code",
      "metadata": {
        "id": "NE5W7SM9prpj",
        "colab": {
          "base_uri": "https://localhost:8080/"
        },
        "outputId": "bd2af7e7-2f5e-437b-fa59-6aa1a32375f0"
      },
      "source": [
        "score = 77\n",
        "if score > 60:\n",
        "   print(score)\n",
        "   score = 0"
      ],
      "execution_count": null,
      "outputs": [
        {
          "output_type": "stream",
          "name": "stdout",
          "text": [
            "77\n"
          ]
        }
      ]
    },
    {
      "cell_type": "code",
      "metadata": {
        "id": "PeZxDvaWC_K_",
        "colab": {
          "base_uri": "https://localhost:8080/"
        },
        "outputId": "c177c91c-dbce-4f35-b60d-bcaae42935e0"
      },
      "source": [
        "# 輸入數字到 a，並印出來\n",
        "a = input\n",
        "print(a)"
      ],
      "execution_count": null,
      "outputs": [
        {
          "output_type": "stream",
          "name": "stdout",
          "text": [
            "Input: Text\n",
            "Text\n"
          ]
        }
      ]
    },
    {
      "cell_type": "markdown",
      "metadata": {
        "id": "F12VCi4boST7"
      },
      "source": [
        "## 常用套件：OS(與電腦溝通)\n",
        "---\n",
        "### 基本查詢\n",
        "Reference :\n",
        "1. https://medium.com/seaniap/python-使用檔案系統-eaecbe7001dd\n",
        "2. https://reurl.cc/q1v690\n",
        "\n"
      ]
    },
    {
      "cell_type": "code",
      "metadata": {
        "id": "VmEHAYJSoVXL",
        "colab": {
          "base_uri": "https://localhost:8080/"
        },
        "outputId": "40870cc6-4590-4cb5-c25c-157e92a8c631"
      },
      "source": [
        "import os\n",
        "\n",
        "# 取得當前路徑\n",
        "nowPath = os.getcwd()\n",
        "print('Now Path : ',nowPath)\n",
        "\n",
        "# 更動路徑\n",
        "os.chdir('../')\n",
        "print('Updated Path : ', os.getcwd())\n",
        "os.chdir('./content')\n",
        "\n",
        "# 取得路徑下所有檔案清單\n",
        "print('Folder files : ',os.listdir())\n",
        "print('Assigned folder : ',os.listdir('./sample_data'))\n"
      ],
      "execution_count": null,
      "outputs": [
        {
          "output_type": "stream",
          "name": "stdout",
          "text": [
            "Now Path :  /content\n",
            "Updated Path :  /\n",
            "Folder files :  ['.config', '.ipynb_checkpoints', 'image.jpg', 'sample_data']\n",
            "Assigned folder :  ['README.md', 'anscombe.json', 'california_housing_train.csv', 'mnist_test.csv', 'mnist_train_small.csv', 'california_housing_test.csv']\n"
          ]
        }
      ]
    },
    {
      "cell_type": "markdown",
      "metadata": {
        "id": "DpEibDhQxXjn"
      },
      "source": [
        "### 進階使用-組合："
      ]
    },
    {
      "cell_type": "code",
      "metadata": {
        "colab": {
          "base_uri": "https://localhost:8080/"
        },
        "id": "wngC59q9w3AA",
        "outputId": "9bae8190-ac45-4890-e595-c55d859ed232"
      },
      "source": [
        "# 組合檔案路徑\n",
        "newPath = os.path.join('product','men','clothes')\n",
        "print('New Path : ',newPath)\n",
        "\n",
        "# 與os.curdir搭配使用，(os.curdir與os.getcwd()相同，差別在直接使用時os.curdir()回傳'.')\n",
        "url = os.path.join(os.curdir,'Pictures_Folder')\n",
        "print()\n",
        "print('Url : ',url)\n",
        "\n",
        "# os.path.basename(path) 取得路徑最後的目錄或檔案名稱\n",
        "pic = os.path.join(os.curdir,'Pictures_Folder','ming.jpg')\n",
        "print()\n",
        "print('Picture URL : ',pic)\n",
        "print(os.path.basename(pic))"
      ],
      "execution_count": null,
      "outputs": [
        {
          "output_type": "stream",
          "name": "stdout",
          "text": [
            "New Path :  product/men/clothes\n",
            "\n",
            "Url :  ./Pictures_Folder\n",
            "\n",
            "Picture URL :  ./Pictures_Folder/ming.jpg\n",
            "ming.jpg\n"
          ]
        }
      ]
    },
    {
      "cell_type": "markdown",
      "metadata": {
        "id": "9dbUNy1b0Y_i"
      },
      "source": [
        "### 進階使用-拆解："
      ]
    },
    {
      "cell_type": "code",
      "metadata": {
        "colab": {
          "base_uri": "https://localhost:8080/"
        },
        "id": "NaZ2Pntq0bTA",
        "outputId": "1879666f-3dac-4c1e-ad30-2d141da764bd"
      },
      "source": [
        "# os.path.split(path)\n",
        "# 拆解路徑最後的元素，以tuple回傳傳\n",
        "Path = os.path.join(os.curdir,'product','men','clothes')\n",
        "print('Before : ',Path)\n",
        "print('After : ',os.path.split(Path))\n",
        "\n",
        "# os.path.dirname(path) \n",
        "# 回傳路徑中最後一個元素以前的路徑\n",
        "print()\n",
        "print('BasePath : ', os.path.dirname(Path))\n",
        "\n",
        "# os.path.splitext(path)\n",
        "# 回傳檔案的副檔名\n",
        "print()\n",
        "file = os.path.join(os.curdir,'product','men','clothes.jpg')\n",
        "print('Before : ',file)\n",
        "print('After : ', os.path.splitext(file))\n"
      ],
      "execution_count": null,
      "outputs": [
        {
          "output_type": "stream",
          "name": "stdout",
          "text": [
            "Before :  ./product/men/clothes\n",
            "After :  ('./product/men', 'clothes')\n",
            "\n",
            "BasePath :  ./product/men\n",
            "\n",
            "Before :  ./product/men/clothes.jpg\n",
            "After :  ('./product/men/clothes', '.jpg')\n"
          ]
        }
      ]
    },
    {
      "cell_type": "markdown",
      "metadata": {
        "id": "ct4AZ-d-2Xj_"
      },
      "source": [
        "### 檔案操作"
      ]
    },
    {
      "cell_type": "code",
      "metadata": {
        "id": "6EBkYzZ62XPd"
      },
      "source": [
        "# 建立資料夾\n",
        "os.makedirs(\"New_Folder\")\n",
        "\n",
        "# 重新命名\n",
        "#os.rename('./beforeName.jpg','./EditedName.jpg')\n",
        "\n",
        "# 刪除檔案\n",
        "#os.remove('./needDeletedPic.jpg')\n",
        "\n",
        "# 刪除資料夾\n",
        "os.rmdir('New_Folder')\n",
        "\n"
      ],
      "execution_count": null,
      "outputs": []
    },
    {
      "cell_type": "markdown",
      "metadata": {
        "id": "zdCjl4-C3noK"
      },
      "source": [
        "## 影像操作：OpenCV\n",
        "---\n",
        "(colab 預設已經幫我們載好了)\n",
        "### 如果未安裝須先安裝： pip install opencv-python\n",
        "### 安裝後載入套件：import cv2\n",
        "Ref : https://yanwei-liu.medium.com/python影像辨識筆記-三-open-cv操作筆記-1eab0b95339c"
      ]
    },
    {
      "cell_type": "code",
      "metadata": {
        "id": "fmlXQZun3wND",
        "colab": {
          "base_uri": "https://localhost:8080/"
        },
        "outputId": "50543aae-40a4-4b94-b726-45d71bade73f"
      },
      "source": [
        "# 引入模組\n",
        "import cv2\n",
        "\n",
        "# 讀取圖片\n",
        "img = cv2.imread('./image.jpg')\n",
        "\n",
        "# 顯示圖片，(但Colab不支援顯示，可以再自己電腦上操作)\n",
        "#cv2.imshow('My Image', img)\n",
        "\n",
        "# 查看照片規格 (長,寬,色彩空間(彩色為3))\n",
        "print(img.shape) \n",
        "\n",
        "# 查看照片大小(bytes)\n",
        "picPath='./image.jpg'\n",
        "size = os.path.getsize(picPath)/1000/1000  # 單位:Mb\n",
        "print(size,'Mb')\n"
      ],
      "execution_count": null,
      "outputs": [
        {
          "output_type": "stream",
          "name": "stdout",
          "text": [
            "(4000, 6000, 3)\n",
            "6.7219560000000005 Mbytes\n"
          ]
        }
      ]
    },
    {
      "cell_type": "markdown",
      "metadata": {
        "id": "3nRylRo690cP"
      },
      "source": [
        "### 人臉辨識\n",
        "- 須先下載OpenCV預先訓練好的模型：\n",
        "https://github.com/opencv/opencv/tree/master/data/haarcascades\n",
        "- 下載 haarcascade_frontalface_default.xml檔案 放置於程式同層資料夾下\n",
        "\n",
        "\n",
        "Ref : https://zhuanlan.zhihu.com/p/63154631 "
      ]
    },
    {
      "cell_type": "code",
      "metadata": {
        "id": "HgT9ffUr8oup"
      },
      "source": [
        "import cv2\n",
        "def facedetect(picname):\n",
        "    #加載haar級聯分類器\n",
        "    face_cascade = cv2.CascadeClassifier('./haarcascade_frontalface_default.xml')\n",
        "    \n",
        "    # 讀取進行檢測的圖像\n",
        "    img = cv2.imread(picname)\n",
        "\n",
        "    # 將原圖像轉為灰度圖\n",
        "    gray = cv2.cvtColor(img, cv2.COLOR_BGR2GRAY)\n",
        "\n",
        "    # 使用級聯分類器進行人臉檢測 返回值為 人臉的bounding box參數（左上角坐標（x,y），矩形框長和寬）\n",
        "    # 如果有多張人臉 則返回一個四維數組\n",
        "    BBox = face_cascade.detectMultiScale(gray, 1.3, 5)\n",
        "\n",
        "    # 繪制矩形框\n",
        "    for(x, y, w, h) in BBox:\n",
        "        img = cv2.rectangle(img, (x, y), (x+w, y+h), (255, 0, 0), 2)\n",
        "\n",
        "    # 保存檢測結果\n",
        "    cv2.imwrite('result.jpg', img)\n",
        "\n",
        "facedetect('./image.jpg')"
      ],
      "execution_count": 3,
      "outputs": []
    },
    {
      "cell_type": "markdown",
      "metadata": {
        "id": "n8VdkyxIBhGM"
      },
      "source": [
        "## 檔案管理+人臉分類\n",
        "Ref : https://github.com/Han1018/Picture-Classification"
      ]
    },
    {
      "cell_type": "code",
      "metadata": {
        "id": "H4KsuMfWBggb"
      },
      "source": [
        "import cv2 as cv\n",
        "import os\n",
        "import shutil\n",
        "import glob2 as gb\n",
        "\n",
        "\n",
        "def facedetect(picname):\n",
        "    # 偵測有無人臉出現：有則回傳True，無則回傳False\n",
        "\n",
        "    # 加載haar級聯分類器\n",
        "    face_cascade = cv.CascadeClassifier(\n",
        "        './haarcascade_frontalface_default.xml')\n",
        "    # 讀取進行檢測的圖像\n",
        "    img = cv.imread(picname)\n",
        "    # 將原圖像轉為灰度圖\n",
        "    gray = cv.cvtColor(img, cv.COLOR_BGR2GRAY)\n",
        "    # 使用級聯分類器進行人臉檢測 返回值為 人臉的bounding box參數（左上角坐標（x,y），矩形框長和寬）\n",
        "    # 如果有多張人臉 則返回一個四維數組\n",
        "    BBox = face_cascade.detectMultiScale(gray, 1.3, 5)\n",
        "    if BBox == ():\n",
        "        return False\n",
        "    return True\n",
        "\n",
        "\n",
        "def classify(picPath, fileFormat):\n",
        "    # 輸入：(圖片路徑，圖片格式('jpg','png'等等))\n",
        "    # 程式根據有無出現人臉分類放入的資料夾\n",
        "\n",
        "    tmpPic = 't.'+fileFormat\n",
        "    dir, name = os.path.split(picPath)\n",
        "    os.rename(picPath, tmpPic)\n",
        "    hasFace = facedetect(tmpPic)\n",
        "    os.rename(tmpPic, picPath)\n",
        "\n",
        "    if hasFace == True:\n",
        "        shutil.move(picPath, 'Picture/'+name)\n",
        "        return\n",
        "    else:\n",
        "        shutil.move(picPath, 'Other/'+name)\n",
        "    return\n",
        "\n",
        "\n",
        "def getFiles(format):\n",
        "    # 輸入：圖片格式，像是\"jpg\",\"png\"等等\n",
        "    # 輸出 : 資料夾下所有同格式的圖片\n",
        "\n",
        "    target = 'Site Files/'\n",
        "    return gb.glob(target+'*.'+format)\n",
        "\n",
        "\n",
        "def main():\n",
        "    types = ['png', 'jpg']  # HEIC not supported\n",
        "    for type in types:\n",
        "        files = getFiles(type)\n",
        "        for pic in files:\n",
        "            classify(pic, 'jpg')\n",
        "\n",
        "\n",
        "main()"
      ],
      "execution_count": null,
      "outputs": []
    },
    {
      "cell_type": "markdown",
      "metadata": {
        "id": "JH35n6ooDPRl"
      },
      "source": [
        "## 大量檔案自動化壓縮\n",
        "- 須先在TinyJPG Developer申請金鑰\n",
        "- https://tinypng.com/developers\n"
      ]
    },
    {
      "cell_type": "code",
      "metadata": {
        "id": "Zl8JkdBCDiah"
      },
      "source": [
        "import os\n",
        "import glob2 as gb\n",
        "import requests\n",
        "import tinify\n",
        "from PIL import Image\n",
        "tinify.key = \"xspvWq8m7gyrZ4dNxRnlyt8mYNFgvyC0\"\n",
        "\n",
        "\n",
        "def compressAPI(picPath, fileFormat):\n",
        "    # 執行與TinyJPG溝通的API\n",
        "    # 輸入：(圖片路徑, 圖片格式('jpg','png'等等))\n",
        "\n",
        "    # path, format = os.path.splitext(picPath)\n",
        "    tmpPic = 't.'+fileFormat\n",
        "    os.rename(picPath, tmpPic)\n",
        "    source = tinify.from_file(tmpPic)\n",
        "    source.to_file(picPath)\n",
        "    os.remove(tmpPic)\n",
        "\n",
        "\n",
        "def getNeedCompressedFiles(path, format):\n",
        "    # 找出需要被壓縮的所有檔案\n",
        "    # 輸入：(需被檢查的資料夾路徑,圖片格式)\n",
        "    # 輸出：所有過大的檔案\n",
        "\n",
        "    # 檔案處裡 Ref : https://medium.com/seaniap/python-%E4%BD%BF%E7%94%A8%E6%AA%94%E6%A1%88%E7%B3%BB%E7%B5%B1-eaecbe7001dd\n",
        "    target = path+'/'\n",
        "    res = []\n",
        "    allFiles = gb.glob(target+'*.'+format)\n",
        "    for picPath in allFiles:\n",
        "        imgSize = os.path.getsize(picPath)/1024/1024  # 單位:Mb\n",
        "        if(imgSize > 1):\n",
        "            res.append(picPath)\n",
        "    return res\n",
        "\n",
        "\n",
        "def main():\n",
        "    paths = ['Picture', 'Other']\n",
        "    types = ['png', 'jpg']  # HEIC not supported\n",
        "    for path in paths:\n",
        "        for type in types:\n",
        "            print(path+'/'+type+\":\")\n",
        "            files = getNeedCompressedFiles(path, type)\n",
        "\n",
        "            for picPath in files:\n",
        "                print(picPath)\n",
        "                compressAPI(picPath, type)\n",
        "\n",
        "\n",
        "# compressAPI('./Picture/test.jpg')\n",
        "main()"
      ],
      "execution_count": null,
      "outputs": []
    }
  ]
}