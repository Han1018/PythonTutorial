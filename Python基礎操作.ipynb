{
  "nbformat": 4,
  "nbformat_minor": 0,
  "metadata": {
    "colab": {
      "name": "Python基礎操作",
      "provenance": [],
      "collapsed_sections": [],
      "include_colab_link": true
    },
    "kernelspec": {
      "name": "python3",
      "display_name": "Python 3"
    }
  },
  "cells": [
    {
      "cell_type": "markdown",
      "metadata": {
        "id": "view-in-github",
        "colab_type": "text"
      },
      "source": [
        "<a href=\"https://colab.research.google.com/github/Han1018/PythonTutorial/blob/main/Python%E5%9F%BA%E7%A4%8E%E6%93%8D%E4%BD%9C.ipynb\" target=\"_parent\"><img src=\"https://colab.research.google.com/assets/colab-badge.svg\" alt=\"Open In Colab\"/></a>"
      ]
    },
    {
      "cell_type": "markdown",
      "metadata": {
        "id": "1GEeUsotSLMR"
      },
      "source": [
        "## 這是什麼網站？\n",
        "這網站叫作 Colab，它可以讓你線上執行 Python 程式，並輕鬆地與之互動，也可以寫成文件的形式。\n",
        "適合用來撰寫筆記以及開發過程，也可以拿來當講義教學。\n"
      ]
    },
    {
      "cell_type": "markdown",
      "metadata": {
        "id": "chOQyxv8SPhz"
      },
      "source": [
        "## 怎麼操作這網站？\n",
        "- 這網站有兩種區塊\n",
        "  - 白底區塊 為 **文字** 區塊\n",
        "  - 灰底區塊 為 **程式** 區塊\n",
        "- 程式區塊（Python）\n",
        "  - 按下 `shift + Enter`：執行程式區塊的程式碼，第一次執行會需要花幾秒初始化\n",
        "  - 按下 `Enter`：換行\n",
        "- 文字區塊（Markdown 語法）\n",
        "  - 雙擊：進入編輯模式\n",
        "  - 按下 `shift + Enter`：結束編輯模式\n",
        "  - 按下 `Enter`：換行\n",
        "  \n",
        "\n",
        "### 新增程式區塊\n",
        "![Code](https://ws3.sinaimg.cn/large/006tNc79gy1g2g9577l2vj303k0200sm.jpg =80x)\n",
        "\n",
        "### 新增文字區塊\n",
        "![Text](https://ws2.sinaimg.cn/large/006tNc79gy1g2g957hpl5j303o020dfp.jpg =80x)\n",
        "\n",
        "### 將目前區塊上移\n",
        "![Up](https://ws4.sinaimg.cn/large/006tNc79gy1g2g957bv6gj303401w745.jpg =80x)\n",
        "\n",
        "### 將目前區塊下移\n",
        "![Down](https://ws2.sinaimg.cn/large/006tNc79gy1g2g95733abj303k01wa9x.jpg =80x)\n",
        "\n"
      ]
    },
    {
      "cell_type": "markdown",
      "metadata": {
        "id": "v3Lz73Ry0cNH"
      },
      "source": [
        "# Python檔案管理\n",
        "## 基礎知識\n",
        "---\n",
        "### 型態：int、string、list、object\n",
        "### 定義Function: def\n"
      ]
    },
    {
      "cell_type": "code",
      "metadata": {
        "colab": {
          "base_uri": "https://localhost:8080/"
        },
        "id": "g_0hK_zv05lw",
        "outputId": "db250769-53e5-47dc-e721-1a090bf3d75d"
      },
      "source": [
        "def IntroInt():\n",
        "  int_a = 1\n",
        "  int_b = 2\n",
        "  print(int_a+int_b)\n",
        "\n",
        "def IntroString(): \n",
        "  string_a = 'User/'\n",
        "  string_b = 'folder1'\n",
        "  print(string_a + string_b)\n",
        "\n",
        "def IntroList(a,b):\n",
        "  list_a = []\n",
        "  list_a.append(a)\n",
        "  list_a.append(b)\n",
        "  print(len(list_a))\n",
        "  print(list_a)\n",
        "\n",
        "def main():\n",
        "  IntroInt()\n",
        "  IntroString()\n",
        "  IntroList('picture1','picture2')\n",
        "\n",
        "main()"
      ],
      "execution_count": null,
      "outputs": [
        {
          "output_type": "stream",
          "name": "stdout",
          "text": [
            "3\n",
            "User/folder1\n",
            "2\n",
            "['picture1', 'picture2']\n"
          ]
        }
      ]
    },
    {
      "cell_type": "markdown",
      "metadata": {
        "id": "S9oiU-nCFMKY"
      },
      "source": [
        "## 常用句型\n",
        "---\n",
        "### 迴圈：For-Loop、while\n",
        "### 條件判斷：：if-else\n"
      ]
    },
    {
      "cell_type": "code",
      "metadata": {
        "id": "sU38ESxw1Q81",
        "colab": {
          "base_uri": "https://localhost:8080/"
        },
        "outputId": "f30950a2-e910-43c9-91a2-8f432ada5f2c"
      },
      "source": [
        "def IntroFor():\n",
        "  list_a = ['pic1','pic2','pic3']\n",
        "  for item in list_a:\n",
        "    print(item)\n",
        "\n",
        "  for time in range(10):\n",
        "    print(time)\n",
        "\n",
        "def IntroWhile():\n",
        "  times = 10\n",
        "  t = 0 \n",
        "  while(t<times):\n",
        "    t = t+1\n",
        "\n",
        "def IntroIf(input):\n",
        "  if(input == 'Test'):\n",
        "    print('True')\n",
        "  else:\n",
        "    print('False')\n",
        "\n",
        "IntroFor()\n",
        "IntroWhile()\n",
        "IntroIf('Test')\n",
        "IntroIf('Test111')"
      ],
      "execution_count": null,
      "outputs": [
        {
          "output_type": "stream",
          "name": "stdout",
          "text": [
            "pic1\n",
            "pic2\n",
            "pic3\n",
            "0\n",
            "1\n",
            "2\n",
            "3\n",
            "4\n",
            "5\n",
            "6\n",
            "7\n",
            "8\n",
            "9\n",
            "True\n",
            "False\n"
          ]
        }
      ]
    },
    {
      "cell_type": "markdown",
      "metadata": {
        "id": "C6lLRJA7HMXg"
      },
      "source": [
        "## Python3 重點語法快速複習\n",
        "\n"
      ]
    },
    {
      "cell_type": "markdown",
      "metadata": {
        "id": "AnFe7FweIFkE"
      },
      "source": [
        "## 輸入 / 輸出\n",
        "\n",
        "Python 提供了兩個簡易的方法達成輸入以及輸出：\n",
        "- `input(<用來提示使用者的文字>)` -- 取得輸入的內容，收到的東西一律為字串 (str)\n",
        "- `print(<任何想顯示的東西>)` -- 將結果顯示出來，可以用「**,**」分隔變數，以同時顯示多項東西"
      ]
    },
    {
      "cell_type": "code",
      "metadata": {
        "id": "SuUAT0bJIKxR"
      },
      "source": [
        "height = input(\"請入您的身高：\")\n",
        "print('身高：', height)"
      ],
      "execution_count": null,
      "outputs": []
    },
    {
      "cell_type": "markdown",
      "metadata": {
        "id": "ZfoO1WmdHpLA"
      },
      "source": [
        "## list 清單\n",
        "\n",
        "等同於其他語言中的陣列 (array)，在 [] 中可以包入多個元素。"
      ]
    },
    {
      "cell_type": "code",
      "metadata": {
        "id": "7un6SYqXLKNo"
      },
      "source": [
        "a = [1, 2]\n",
        "\n",
        "print(a)"
      ],
      "execution_count": null,
      "outputs": []
    },
    {
      "cell_type": "markdown",
      "metadata": {
        "id": "-wPfJlZ3MGSF"
      },
      "source": [
        "### 取得元素\n",
        "\n",
        "使用 **變數[ 位移植 ] ** 來取的裡面的元素。"
      ]
    },
    {
      "cell_type": "code",
      "metadata": {
        "id": "mk2htKRaMTHu"
      },
      "source": [
        "a = [1, 2]\n",
        "\n",
        "print('a[0]：', a[0])\n",
        "\n",
        "print('a[1]：', a[1])"
      ],
      "execution_count": null,
      "outputs": []
    },
    {
      "cell_type": "markdown",
      "metadata": {
        "id": "JhZFiK49M2AC"
      },
      "source": [
        "### 更改元素\n",
        "使用 [ 位移植 ] 來勾改特定元素。"
      ]
    },
    {
      "cell_type": "code",
      "metadata": {
        "id": "1_fWgsJENGFb"
      },
      "source": [
        "a = [1, 2]\n",
        "a[0] = 3\n",
        "a[1] = 100\n",
        "\n",
        "print('a[0]：', a[0])\n",
        "\n",
        "print('a[1]：', a[1])"
      ],
      "execution_count": null,
      "outputs": []
    },
    {
      "cell_type": "markdown",
      "metadata": {
        "id": "B5Gyu72n5z9e"
      },
      "source": [
        "### 截取範圍內的元素 - slice\n",
        "\n",
        "用一個範圍的位移值來取得範圍內的部分元素。\n"
      ]
    },
    {
      "cell_type": "code",
      "metadata": {
        "id": "M2OZ2Apb6G8j"
      },
      "source": [
        "a = [0, 1, 2, 3, 4, 5, 6, 7, 8, 9]\n",
        "\n",
        "print(a[0:6])\n",
        "\n",
        "print(a[1:6])\n",
        "\n",
        "print(a[1:6:2])"
      ],
      "execution_count": null,
      "outputs": []
    },
    {
      "cell_type": "markdown",
      "metadata": {
        "id": "_OogqvjZFk3M"
      },
      "source": [
        "### 在結尾加入元素\n",
        "用 **`變數.append(預加入的元素)`** 將元素從尾端加入。"
      ]
    },
    {
      "cell_type": "code",
      "metadata": {
        "id": "abuoDSrQFvHt"
      },
      "source": [
        "a = [1, 2, 3]\n",
        "print(a)\n",
        "\n",
        "a.append('four')\n",
        "print(a)\n",
        "\n",
        "a.append(5)\n",
        "print(a)"
      ],
      "execution_count": null,
      "outputs": []
    },
    {
      "cell_type": "markdown",
      "metadata": {
        "id": "1hUdv16CHyC6"
      },
      "source": [
        "### 將元素取出\n",
        "用 `pop()` 將元素從 list 中取出，也可用來刪除該元素。\n",
        "\n",
        "如果括號內沒有給定位移植，則預設刪除最後一個。"
      ]
    },
    {
      "cell_type": "code",
      "metadata": {
        "id": "Fz73hxnwIGq0"
      },
      "source": [
        "fruits = ['apple', 'banana', 'pineapple', 'orange', 'grape']\n",
        "print(fruits)\n",
        "\n",
        "fruits.pop()\n",
        "print(fruits)\n",
        "\n",
        "fruits.pop(2)\n",
        "print(fruits)"
      ],
      "execution_count": null,
      "outputs": []
    },
    {
      "cell_type": "markdown",
      "metadata": {
        "id": "OoUshM2QEcbv"
      },
      "source": [
        "## Tuple 元組\n",
        "簡易版的 list，以 `()` 將元素包起來，在創建後無法對元素進行增減、修改或排序。\n",
        "\n",
        "```\n",
        "ex. (1, 2, 3)、('One', 'two', 3)\n",
        "```"
      ]
    },
    {
      "cell_type": "code",
      "metadata": {
        "id": "DKvCrvCcErU5"
      },
      "source": [
        "a = (1, 2, 3)\n",
        "print(a[1])\n",
        "\n",
        "# 錯誤示範（會噴錯，因為 Tuple 無法對元素進行增減、修改或排序）\n",
        "# a[1] = 3"
      ],
      "execution_count": null,
      "outputs": []
    },
    {
      "cell_type": "markdown",
      "metadata": {
        "id": "UEZqC6hfHrR2"
      },
      "source": [
        "## dictionary 字典\n",
        "利用左邊的 key，可以找到右邊的 value  \n",
        "跟在書中可以用章節名稱找到頁碼的方式一樣\n",
        "\n",
        "> 新增元素時，可以直接用 **`變數[key] = value`**"
      ]
    },
    {
      "cell_type": "code",
      "metadata": {
        "id": "HSCvHXJh3cyj"
      },
      "source": [
        "a = {'one': 1, 'two': 2, 3: 'three'}\n",
        "\n",
        "print(a['one'])\n",
        "print(a[3])"
      ],
      "execution_count": null,
      "outputs": []
    },
    {
      "cell_type": "markdown",
      "metadata": {
        "id": "xWOoBuzBHk2C"
      },
      "source": [
        "## for 迴圈"
      ]
    },
    {
      "cell_type": "markdown",
      "metadata": {
        "id": "zLUqYqVEtGnB"
      },
      "source": [
        "### for <子元素> in <母元素>\n",
        "```python\n",
        "for <子元素> in <母元素>:\n",
        "    重複執行這裡的程式，直到所有子元素都被取出來\n",
        "```"
      ]
    },
    {
      "cell_type": "code",
      "metadata": {
        "id": "rI8EC969HvQe"
      },
      "source": [
        "numbers = [1, 2, 3, 4, 5]\n",
        "for number in numbers:\n",
        "    print(number)\n"
      ],
      "execution_count": null,
      "outputs": []
    },
    {
      "cell_type": "markdown",
      "metadata": {
        "id": "KRW6H94i-aT9"
      },
      "source": [
        "### `for i in range()`\n",
        "在 **`for`** 迴圈中使用 **`range()`** 與 **`[0, 1, 2, ..., n]`** 有一樣的效果。\n",
        "\n",
        "**`range(起始, 結束(不包含它), 間距)`**\n",
        "\n",
        "ex. \n",
        "- **`range(3)`** 與 **`[0, 1, 2]`** 在 for 迴圈中效果相同\n",
        "- **`range(2, 5)`** 與 **`[2, 3, 4]`** 在 for 迴圈中效果相同\n",
        "- **`range(2, 7, 2)`** 與 **`[2, 4, 6]`** 在 for 迴圈中效果相同\n"
      ]
    },
    {
      "cell_type": "code",
      "metadata": {
        "id": "fDKndQmMKnpw"
      },
      "source": [
        "# 僅給予起始位置\n",
        "for i in range(3):\n",
        "   print(i)"
      ],
      "execution_count": null,
      "outputs": []
    },
    {
      "cell_type": "code",
      "metadata": {
        "id": "Iz31JKl5Awbb"
      },
      "source": [
        "# 僅給予起始位置和結束位置（不會包含到結束位置）\n",
        "for i in range(2, 5):\n",
        "  print(i)"
      ],
      "execution_count": null,
      "outputs": []
    },
    {
      "cell_type": "code",
      "metadata": {
        "id": "d6G_j4pqAw8G"
      },
      "source": [
        "# 給予起始位置、結束位置、間距\n",
        "for i in range(2, 7, 2):\n",
        "  print(i)"
      ],
      "execution_count": null,
      "outputs": []
    },
    {
      "cell_type": "markdown",
      "metadata": {
        "id": "Swd04Hop1mGQ"
      },
      "source": [
        "## 進階用法\n",
        "下面寫法的兩個範例效果依樣，不過下面的寫法簡潔很多。"
      ]
    },
    {
      "cell_type": "code",
      "metadata": {
        "id": "oLmfF0LO1x1g"
      },
      "source": [
        "fruits = ['apple', 'banana', 'pineapple', 'orange', 'grape']\n",
        "\n",
        "# 第一種寫法\n",
        "b = []\n",
        "for i in fruits:\n",
        "  b.append(i)\n",
        "print(b)\n",
        "\n",
        "# 第二種寫法（進階版）\n",
        "c = [i for i in fruits]\n",
        "print(c)\n",
        "\n",
        "# 第二種的更進階寫法（超階版）\n",
        "d = [i for i in fruits if len(i) > 5]\n",
        "print(d)"
      ],
      "execution_count": null,
      "outputs": []
    },
    {
      "cell_type": "markdown",
      "metadata": {
        "id": "7QqxQ-jgn5j8"
      },
      "source": [
        "## 成為底爸葛大師！\n",
        "將以下的程式碼都改成正確可以執行的吧～"
      ]
    },
    {
      "cell_type": "code",
      "metadata": {
        "id": "APwq4Oy6odf1"
      },
      "source": [
        "weight = input('請輸入體重：')\n",
        "height = input('請輸入身高(公尺)：')\n",
        "bmi = weight / height**2\n",
        "print(bmi)"
      ],
      "execution_count": null,
      "outputs": []
    },
    {
      "cell_type": "code",
      "metadata": {
        "id": "RiRjIFIXo3t1"
      },
      "source": [
        "a = 'owo'\n",
        "print a"
      ],
      "execution_count": null,
      "outputs": []
    },
    {
      "cell_type": "code",
      "metadata": {
        "id": "1CAnXn_JpUZX"
      },
      "source": [
        "items = ['Machine', 'Cat', 'Dog']\n",
        "for item in items\n",
        "  if item == 'Cat'\n",
        "    print(item)"
      ],
      "execution_count": null,
      "outputs": []
    },
    {
      "cell_type": "code",
      "metadata": {
        "id": "NE5W7SM9prpj"
      },
      "source": [
        "score = 77\n",
        "if score > 60:\n",
        "   print(score)\n",
        "  score = 0"
      ],
      "execution_count": null,
      "outputs": []
    },
    {
      "cell_type": "code",
      "metadata": {
        "id": "0ccXxnD5qMG5"
      },
      "source": [
        "import time\n",
        "print(time.time())\n",
        "print(xx)"
      ],
      "execution_count": null,
      "outputs": []
    },
    {
      "cell_type": "code",
      "metadata": {
        "id": "PeZxDvaWC_K_"
      },
      "source": [
        "# 輸入數字到 a，並印出來\n",
        "a = input\n",
        "print(a)"
      ],
      "execution_count": null,
      "outputs": []
    },
    {
      "cell_type": "markdown",
      "metadata": {
        "id": "F12VCi4boST7"
      },
      "source": [
        "## 常用套件：OS(與電腦溝通)\n",
        "ref :\n",
        "1. https://medium.com/seaniap/python-使用檔案系統-eaecbe7001dd\n",
        "2. https://www.delftstack.com/zh-tw/howto/python/python-file-move/#%25E5%259C%25A8-python-%25E4%25B8%25AD%25E4%25BD%25BF%25E7%2594%25A8-shutil.move-%25E5%2592%258C-listdir-%25E6%2596%25B9%25E6%25B3%2595%25E7%25A7%25BB%25E5%258B%2595%25E5%25A4%259A%25E5%2580%258B%25E6%25AA%2594%25E6%25A1%2588\n",
        "\n"
      ]
    },
    {
      "cell_type": "code",
      "metadata": {
        "id": "VmEHAYJSoVXL",
        "colab": {
          "base_uri": "https://localhost:8080/"
        },
        "outputId": "ccc2047b-a31c-44ef-d09c-76c1003650d0"
      },
      "source": [
        "import os\n",
        "\n",
        "# 組合檔案路徑\n",
        "newPath = os.path.join('product','men','clothes')\n",
        "print('New Path : ',newPath)\n",
        "\n",
        "\n"
      ],
      "execution_count": null,
      "outputs": [
        {
          "output_type": "stream",
          "name": "stdout",
          "text": [
            "newPath :  product/men/clothes\n"
          ]
        }
      ]
    }
  ]
}